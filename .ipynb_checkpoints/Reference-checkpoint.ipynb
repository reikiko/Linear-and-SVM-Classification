{
 "cells": [
  {
   "cell_type": "markdown",
   "metadata": {
    "id": "zYVbKR88y-HZ"
   },
   "source": [
    "# **Tugas Besar Pemodelan dan Optimasi**\n",
    "---\n",
    "## **Shadifa Auliatama Harjanto**\n",
    "## 1301194220\n",
    "## S2IF-22-01"
   ]
  },
  {
   "cell_type": "markdown",
   "metadata": {
    "id": "rm4tOPG6zesD"
   },
   "source": [
    "## **Import Library**"
   ]
  },
  {
   "cell_type": "code",
   "execution_count": null,
   "metadata": {
    "id": "DPQre-q30IFg"
   },
   "outputs": [],
   "source": [
    "import pandas as pd\n",
    "import matplotlib.pyplot as plt\n",
    "import numpy as np\n",
    "from sklearn.model_selection import train_test_split\n",
    "from sklearn import linear_model\n",
    "from sklearn.metrics import accuracy_score\n",
    "from sklearn.svm import SVC\n",
    "from sklearn.metrics import confusion_matrix"
   ]
  },
  {
   "cell_type": "markdown",
   "metadata": {
    "id": "qcOSLEc-zijO"
   },
   "source": [
    "## **Input Dataset and Data Splitting**"
   ]
  },
  {
   "cell_type": "code",
   "execution_count": null,
   "metadata": {
    "colab": {
     "base_uri": "https://localhost:8080/",
     "height": 206
    },
    "id": "8mwM8Oyh1sUL",
    "outputId": "4dd9746e-6d76-4123-dab0-004ab5e3effa"
   },
   "outputs": [
    {
     "data": {
      "text/html": [
       "\n",
       "  <div id=\"df-1bc72bda-ceec-4a14-9c79-4911c5df4711\">\n",
       "    <div class=\"colab-df-container\">\n",
       "      <div>\n",
       "<style scoped>\n",
       "    .dataframe tbody tr th:only-of-type {\n",
       "        vertical-align: middle;\n",
       "    }\n",
       "\n",
       "    .dataframe tbody tr th {\n",
       "        vertical-align: top;\n",
       "    }\n",
       "\n",
       "    .dataframe thead th {\n",
       "        text-align: right;\n",
       "    }\n",
       "</style>\n",
       "<table border=\"1\" class=\"dataframe\">\n",
       "  <thead>\n",
       "    <tr style=\"text-align: right;\">\n",
       "      <th></th>\n",
       "      <th>x</th>\n",
       "      <th>Y</th>\n",
       "      <th>LABEL</th>\n",
       "    </tr>\n",
       "  </thead>\n",
       "  <tbody>\n",
       "    <tr>\n",
       "      <th>0</th>\n",
       "      <td>1.0000</td>\n",
       "      <td>399.6550</td>\n",
       "      <td>1</td>\n",
       "    </tr>\n",
       "    <tr>\n",
       "      <th>1</th>\n",
       "      <td>5.8293</td>\n",
       "      <td>428.5600</td>\n",
       "      <td>1</td>\n",
       "    </tr>\n",
       "    <tr>\n",
       "      <th>2</th>\n",
       "      <td>10.6585</td>\n",
       "      <td>266.0618</td>\n",
       "      <td>1</td>\n",
       "    </tr>\n",
       "    <tr>\n",
       "      <th>3</th>\n",
       "      <td>15.4878</td>\n",
       "      <td>376.9293</td>\n",
       "      <td>1</td>\n",
       "    </tr>\n",
       "    <tr>\n",
       "      <th>4</th>\n",
       "      <td>20.3171</td>\n",
       "      <td>383.6759</td>\n",
       "      <td>1</td>\n",
       "    </tr>\n",
       "  </tbody>\n",
       "</table>\n",
       "</div>\n",
       "      <button class=\"colab-df-convert\" onclick=\"convertToInteractive('df-1bc72bda-ceec-4a14-9c79-4911c5df4711')\"\n",
       "              title=\"Convert this dataframe to an interactive table.\"\n",
       "              style=\"display:none;\">\n",
       "        \n",
       "  <svg xmlns=\"http://www.w3.org/2000/svg\" height=\"24px\"viewBox=\"0 0 24 24\"\n",
       "       width=\"24px\">\n",
       "    <path d=\"M0 0h24v24H0V0z\" fill=\"none\"/>\n",
       "    <path d=\"M18.56 5.44l.94 2.06.94-2.06 2.06-.94-2.06-.94-.94-2.06-.94 2.06-2.06.94zm-11 1L8.5 8.5l.94-2.06 2.06-.94-2.06-.94L8.5 2.5l-.94 2.06-2.06.94zm10 10l.94 2.06.94-2.06 2.06-.94-2.06-.94-.94-2.06-.94 2.06-2.06.94z\"/><path d=\"M17.41 7.96l-1.37-1.37c-.4-.4-.92-.59-1.43-.59-.52 0-1.04.2-1.43.59L10.3 9.45l-7.72 7.72c-.78.78-.78 2.05 0 2.83L4 21.41c.39.39.9.59 1.41.59.51 0 1.02-.2 1.41-.59l7.78-7.78 2.81-2.81c.8-.78.8-2.07 0-2.86zM5.41 20L4 18.59l7.72-7.72 1.47 1.35L5.41 20z\"/>\n",
       "  </svg>\n",
       "      </button>\n",
       "      \n",
       "  <style>\n",
       "    .colab-df-container {\n",
       "      display:flex;\n",
       "      flex-wrap:wrap;\n",
       "      gap: 12px;\n",
       "    }\n",
       "\n",
       "    .colab-df-convert {\n",
       "      background-color: #E8F0FE;\n",
       "      border: none;\n",
       "      border-radius: 50%;\n",
       "      cursor: pointer;\n",
       "      display: none;\n",
       "      fill: #1967D2;\n",
       "      height: 32px;\n",
       "      padding: 0 0 0 0;\n",
       "      width: 32px;\n",
       "    }\n",
       "\n",
       "    .colab-df-convert:hover {\n",
       "      background-color: #E2EBFA;\n",
       "      box-shadow: 0px 1px 2px rgba(60, 64, 67, 0.3), 0px 1px 3px 1px rgba(60, 64, 67, 0.15);\n",
       "      fill: #174EA6;\n",
       "    }\n",
       "\n",
       "    [theme=dark] .colab-df-convert {\n",
       "      background-color: #3B4455;\n",
       "      fill: #D2E3FC;\n",
       "    }\n",
       "\n",
       "    [theme=dark] .colab-df-convert:hover {\n",
       "      background-color: #434B5C;\n",
       "      box-shadow: 0px 1px 3px 1px rgba(0, 0, 0, 0.15);\n",
       "      filter: drop-shadow(0px 1px 2px rgba(0, 0, 0, 0.3));\n",
       "      fill: #FFFFFF;\n",
       "    }\n",
       "  </style>\n",
       "\n",
       "      <script>\n",
       "        const buttonEl =\n",
       "          document.querySelector('#df-1bc72bda-ceec-4a14-9c79-4911c5df4711 button.colab-df-convert');\n",
       "        buttonEl.style.display =\n",
       "          google.colab.kernel.accessAllowed ? 'block' : 'none';\n",
       "\n",
       "        async function convertToInteractive(key) {\n",
       "          const element = document.querySelector('#df-1bc72bda-ceec-4a14-9c79-4911c5df4711');\n",
       "          const dataTable =\n",
       "            await google.colab.kernel.invokeFunction('convertToInteractive',\n",
       "                                                     [key], {});\n",
       "          if (!dataTable) return;\n",
       "\n",
       "          const docLinkHtml = 'Like what you see? Visit the ' +\n",
       "            '<a target=\"_blank\" href=https://colab.research.google.com/notebooks/data_table.ipynb>data table notebook</a>'\n",
       "            + ' to learn more about interactive tables.';\n",
       "          element.innerHTML = '';\n",
       "          dataTable['output_type'] = 'display_data';\n",
       "          await google.colab.output.renderOutput(dataTable, element);\n",
       "          const docLink = document.createElement('div');\n",
       "          docLink.innerHTML = docLinkHtml;\n",
       "          element.appendChild(docLink);\n",
       "        }\n",
       "      </script>\n",
       "    </div>\n",
       "  </div>\n",
       "  "
      ],
      "text/plain": [
       "         x         Y  LABEL\n",
       "0   1.0000  399.6550      1\n",
       "1   5.8293  428.5600      1\n",
       "2  10.6585  266.0618      1\n",
       "3  15.4878  376.9293      1\n",
       "4  20.3171  383.6759      1"
      ]
     },
     "execution_count": 2,
     "metadata": {},
     "output_type": "execute_result"
    }
   ],
   "source": [
    "df = pd.read_csv('DataClassification.txt', sep='\\t');\n",
    "df1 = df.loc[df['LABEL'] == 1]\n",
    "df2 = df.loc[df['LABEL'] == 2]\n",
    "X = df[['x', 'Y']]\n",
    "y = df[['LABEL']]\n",
    "\n",
    "Xt = X.to_numpy()\n",
    "yt = y.to_numpy()\n",
    "X_train, X_test, y_train, y_test = train_test_split(Xt, yt,test_size=0.3, random_state=42)\n",
    "\n",
    "df.head()"
   ]
  },
  {
   "cell_type": "markdown",
   "metadata": {
    "id": "ynvAkFnqzzDo"
   },
   "source": [
    "## **Data Plotting**"
   ]
  },
  {
   "cell_type": "code",
   "execution_count": null,
   "metadata": {
    "colab": {
     "base_uri": "https://localhost:8080/",
     "height": 522
    },
    "id": "BOWeC7KH09Qn",
    "outputId": "8521a34f-07d8-43b9-d5ee-dd0d246d5d9b"
   },
   "outputs": [
    {
     "data": {
      "image/png": "[encoded data removed]",
      "text/plain": [
       "<Figure size 864x576 with 1 Axes>"
      ]
     },
     "metadata": {
      "needs_background": "light"
     },
     "output_type": "display_data"
    }
   ],
   "source": [
    "# plotting data\n",
    "m = [\"x\", \"v\"]\n",
    "color = ['black', 'blue']\n",
    "plt_1 = plt.figure(figsize=(12, 8))\n",
    "plt.scatter(df1['x'], df1['Y'], marker='v', facecolors='none', edgecolors='black')\n",
    "plt.scatter(df2['x'], df2['Y'], marker='o', facecolors='none', edgecolors='blue')\n",
    "\n",
    "plt.title('Data Tipe 1 dan Tipe 2', size=20)\n",
    "plt.xlabel('Y', size=14)\n",
    "plt.ylabel('X', size=14)\n",
    "plt.show()"
   ]
  },
  {
   "cell_type": "markdown",
   "metadata": {
    "id": "6eOd6zK6z4VC"
   },
   "source": [
    "## **Pemodelan Klasifikasi dan Analisis Hasil (Kualitatif dan Kuantitatif)**"
   ]
  },
  {
   "cell_type": "markdown",
   "metadata": {
    "id": "McwXNb7E1M3q"
   },
   "source": [
    "### **Metode Linear**"
   ]
  },
  {
   "cell_type": "code",
   "execution_count": null,
   "metadata": {
    "colab": {
     "base_uri": "https://localhost:8080/",
     "height": 687
    },
    "id": "bRhQYUny5O2d",
    "outputId": "814c302b-6ec3-4d20-fdba-8b8b36efdef1"
   },
   "outputs": [
    {
     "name": "stdout",
     "output_type": "stream",
     "text": [
      "Akurasi Metode Linear:  1.0\n",
      "==Confusion Matrix==\n",
      "True Positive:  6\n",
      "True Negative:  7\n",
      "False Positive:  0\n",
      "False Negative:  0\n"
     ]
    },
    {
     "name": "stderr",
     "output_type": "stream",
     "text": [
      "/usr/local/lib/python3.8/dist-packages/sklearn/linear_model/_ridge.py:1059: DataConversionWarning: A column-vector y was passed when a 1d array was expected. Please change the shape of y to (n_samples, ), for example using ravel().\n",
      "  y = column_or_1d(y, warn=True)\n"
     ]
    },
    {
     "data": {
      "image/png": "[encoded data removed]",
      "text/plain": [
       "<Figure size 864x576 with 1 Axes>"
      ]
     },
     "metadata": {
      "needs_background": "light"
     },
     "output_type": "display_data"
    }
   ],
   "source": [
    "model = linear_model.RidgeClassifier()\n",
    "linclf = model.fit(X_train, y_train)\n",
    "preds = model.predict(X_test)\n",
    "\n",
    "print(\"Akurasi Metode Linear: \", accuracy_score(y_test, preds))\n",
    "tn, fp, fn, tp = confusion_matrix(y_test, preds).ravel()\n",
    "print(\"==Confusion Matrix==\")\n",
    "print(\"True Positive: \", tp)\n",
    "print(\"True Negative: \", tn)\n",
    "print(\"False Positive: \", fp)\n",
    "print(\"False Negative: \", fn)\n",
    "\n",
    "plt_2 = plt.figure(figsize=(12, 8))\n",
    "plt.scatter(df1['x'], df1['Y'], marker='v', facecolors='none', edgecolors='black')\n",
    "plt.scatter(df2['x'], df2['Y'], marker='o', facecolors='none', edgecolors='blue')\n",
    "w = linclf.coef_[0]\n",
    "a = -w[0] / w[1]\n",
    "xp = np.linspace(0, 100)\n",
    "yp = a * xp - (linclf.intercept_)\n",
    "\n",
    "plt.plot(xp, yp, 'k-')\n",
    "plt.title('Ridge Classifier (Linear)', size=20)\n",
    "plt.xlabel('X', size=14)\n",
    "plt.ylabel('y', size=14)\n",
    "plt.show()"
   ]
  },
  {
   "cell_type": "markdown",
   "metadata": {
    "id": "grxJXmYA1Q2U"
   },
   "source": [
    "### **Metode SVM**"
   ]
  },
  {
   "cell_type": "code",
   "execution_count": null,
   "metadata": {
    "colab": {
     "base_uri": "https://localhost:8080/",
     "height": 687
    },
    "id": "jt5wER7YIjAO",
    "outputId": "c94b2911-ef7f-42f1-92fc-dec98aa7b4c4"
   },
   "outputs": [
    {
     "name": "stderr",
     "output_type": "stream",
     "text": [
      "/usr/local/lib/python3.8/dist-packages/sklearn/utils/validation.py:993: DataConversionWarning: A column-vector y was passed when a 1d array was expected. Please change the shape of y to (n_samples, ), for example using ravel().\n",
      "  y = column_or_1d(y, warn=True)\n"
     ]
    },
    {
     "name": "stdout",
     "output_type": "stream",
     "text": [
      "Akurasi Metode SVM Classifier:  1.0\n",
      "==Confusion Matrix==\n",
      "True Positive:  6\n",
      "True Negative:  7\n",
      "False Positive:  0\n",
      "False Negative:  0\n"
     ]
    },
    {
     "data": {
      "image/png": "[encoded data removed]",
      "text/plain": [
       "<Figure size 864x576 with 1 Axes>"
      ]
     },
     "metadata": {
      "needs_background": "light"
     },
     "output_type": "display_data"
    }
   ],
   "source": [
    "model = SVC(kernel='linear')\n",
    "svmclf = model.fit(X_train, y_train)\n",
    "preds = model.predict(X_test)\n",
    "\n",
    "print(\"Akurasi Metode SVM Classifier: \", accuracy_score(y_test, preds))\n",
    "tn, fp, fn, tp = confusion_matrix(y_test, preds).ravel()\n",
    "print(\"==Confusion Matrix==\")\n",
    "print(\"True Positive: \", tp)\n",
    "print(\"True Negative: \", tn)\n",
    "print(\"False Positive: \", fp)\n",
    "print(\"False Negative: \", fn)\n",
    "\n",
    "plt_2 = plt.figure(figsize=(12, 8))\n",
    "plt.scatter(df1['x'], df1['Y'], marker='v', facecolors='none', edgecolors='black')\n",
    "plt.scatter(df2['x'], df2['Y'], marker='o', facecolors='none', edgecolors='blue')\n",
    "w = svmclf.coef_[0]\n",
    "b = svmclf.intercept_[0]\n",
    "a = -w[0] / w[1]\n",
    "xp = np.linspace(0, 100)\n",
    "yp = a * xp - b / w[1]\n",
    "\n",
    "plt.plot(xp, yp, 'k-')\n",
    "plt.title('SVM Classifier', size=20)\n",
    "plt.xlabel('X', size=14)\n",
    "plt.ylabel('y', size=14)\n",
    "plt.show()"
   ]
  }
 ],
 "metadata": {
  "colab": {
   "provenance": []
  },
  "gpuClass": "standard",
  "kernelspec": {
   "display_name": "Python 3 (ipykernel)",
   "language": "python",
   "name": "python3"
  },
  "language_info": {
   "codemirror_mode": {
    "name": "ipython",
    "version": 3
   },
   "file_extension": ".py",
   "mimetype": "text/x-python",
   "name": "python",
   "nbconvert_exporter": "python",
   "pygments_lexer": "ipython3",
   "version": "3.9.15"
  }
 },
 "nbformat": 4,
 "nbformat_minor": 1
}
